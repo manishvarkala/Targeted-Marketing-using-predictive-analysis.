{
  "nbformat": 4,
  "nbformat_minor": 0,
  "metadata": {
    "colab": {
      "provenance": []
    },
    "kernelspec": {
      "name": "python3",
      "display_name": "Python 3"
    },
    "language_info": {
      "name": "python"
    }
  },
  "cells": [
    {
      "cell_type": "code",
      "source": [
        "import pandas as pd\n",
        "import numpy as np\n",
        "import matplotlib.pyplot as plt\n",
        "import seaborn as sns\n",
        "from sklearn.impute import SimpleImputer\n",
        "from sklearn.preprocessing import MinMaxScaler, StandardScaler\n",
        "from sklearn.model_selection import train_test_split\n",
        "from sklearn.linear_model import LinearRegression\n",
        "from sklearn.metrics import mean_squared_error, r2_score\n",
        "from sklearn.metrics import mean_squared_error\n",
        "from sklearn.feature_selection import RFE\n",
        "from sklearn.decomposition import PCA\n",
        "from sklearn.naive_bayes import BernoulliNB\n",
        "from sklearn.naive_bayes import CategoricalNB\n",
        "from sklearn.metrics import accuracy_score, roc_curve, roc_auc_score, f1_score, precision_score, recall_score\n",
        "from sklearn.metrics import confusion_matrix, precision_score, recall_score, f1_score\n",
        "from sklearn.ensemble import RandomForestRegressor\n",
        "from sklearn.ensemble import RandomForestClassifier"
      ],
      "metadata": {
        "id": "-a82KW6-Dek8"
      },
      "execution_count": null,
      "outputs": []
    },
    {
      "cell_type": "code",
      "execution_count": null,
      "metadata": {
        "colab": {
          "base_uri": "https://localhost:8080/"
        },
        "id": "Lq2VhQ13CmrU",
        "outputId": "7f95cc78-cc3e-42e4-ef01-7b14bdd1992f"
      },
      "outputs": [
        {
          "output_type": "stream",
          "name": "stdout",
          "text": [
            "<bound method NDFrame.head of      Attitude   In Shape   Fashionable   Stylish   Individualistic  \\\n",
            "0           6          5             5         4                 6   \n",
            "1           9          6             6         4                 4   \n",
            "2           8          9             8         7                 7   \n",
            "3           3          2             2         3                 3   \n",
            "4           5          5             5         4                 6   \n",
            "..        ...        ...           ...       ...               ...   \n",
            "395         5          4             5         5                 4   \n",
            "396         6          4             4         4                 3   \n",
            "397         1          3             4         2                 5   \n",
            "398         5          6             6         8                 5   \n",
            "399         8          6             6         6                 7   \n",
            "\n",
            "      Risk Taker   No Ozone Concern   Right To Pollute   Society Fine  \\\n",
            "0              5                  4                  5              6   \n",
            "1              4                  7                  7              7   \n",
            "2              7                  7                  7              5   \n",
            "3              4                  3                  4              6   \n",
            "4              5                  4                  5              6   \n",
            "..           ...                ...                ...            ...   \n",
            "395            5                  3                  3              4   \n",
            "396            6                  6                  6              6   \n",
            "397            4                  3                  3              4   \n",
            "398            6                  4                  5              4   \n",
            "399            6                  6                  7              6   \n",
            "\n",
            "      No Time For Charity  ...   American Cars Rule   Restrict Japan Imports  \\\n",
            "0                       5  ...                    7                        8   \n",
            "1                       7  ...                    5                        4   \n",
            "2                       5  ...                    3                        2   \n",
            "3                       6  ...                    7                        7   \n",
            "4                       5  ...                    4                        4   \n",
            "..                    ...  ...                  ...                      ...   \n",
            "395                     4  ...                    3                        2   \n",
            "396                     7  ...                    5                        5   \n",
            "397                     4  ...                    5                        5   \n",
            "398                     5  ...                    6                        7   \n",
            "399                     6  ...                    4                        5   \n",
            "\n",
            "      Buy American   Adventurous   Midlife Crisis   Early Adopter   Active  \\\n",
            "0                8             4                3               3        3   \n",
            "1                6             5                5               6        4   \n",
            "2                4             6                5               5        5   \n",
            "3                8             4                4               5        5   \n",
            "4                5             5                4               4        7   \n",
            "..             ...           ...              ...             ...      ...   \n",
            "395              4             6                6               9        5   \n",
            "396              6             6                6               8        8   \n",
            "397              5             1                1               2        4   \n",
            "398              6             5                6               7        4   \n",
            "399              6             2                4               5        5   \n",
            "\n",
            "      Skeptics Wrong   Determined   Optimistic  \n",
            "0                  2            1            4  \n",
            "1                  4            4            4  \n",
            "2                  6            6            7  \n",
            "3                  3            3            3  \n",
            "4                  3            3            4  \n",
            "..               ...          ...          ...  \n",
            "395                5            5            4  \n",
            "396                2            2            2  \n",
            "397                6            7            6  \n",
            "398                7            7            6  \n",
            "399                9            9            9  \n",
            "\n",
            "[400 rows x 31 columns]>\n",
            "<bound method NDFrame.describe of      Attitude   In Shape   Fashionable   Stylish   Individualistic  \\\n",
            "0           6          5             5         4                 6   \n",
            "1           9          6             6         4                 4   \n",
            "2           8          9             8         7                 7   \n",
            "3           3          2             2         3                 3   \n",
            "4           5          5             5         4                 6   \n",
            "..        ...        ...           ...       ...               ...   \n",
            "395         5          4             5         5                 4   \n",
            "396         6          4             4         4                 3   \n",
            "397         1          3             4         2                 5   \n",
            "398         5          6             6         8                 5   \n",
            "399         8          6             6         6                 7   \n",
            "\n",
            "      Risk Taker   No Ozone Concern   Right To Pollute   Society Fine  \\\n",
            "0              5                  4                  5              6   \n",
            "1              4                  7                  7              7   \n",
            "2              7                  7                  7              5   \n",
            "3              4                  3                  4              6   \n",
            "4              5                  4                  5              6   \n",
            "..           ...                ...                ...            ...   \n",
            "395            5                  3                  3              4   \n",
            "396            6                  6                  6              6   \n",
            "397            4                  3                  3              4   \n",
            "398            6                  4                  5              4   \n",
            "399            6                  6                  7              6   \n",
            "\n",
            "      No Time For Charity  ...   American Cars Rule   Restrict Japan Imports  \\\n",
            "0                       5  ...                    7                        8   \n",
            "1                       7  ...                    5                        4   \n",
            "2                       5  ...                    3                        2   \n",
            "3                       6  ...                    7                        7   \n",
            "4                       5  ...                    4                        4   \n",
            "..                    ...  ...                  ...                      ...   \n",
            "395                     4  ...                    3                        2   \n",
            "396                     7  ...                    5                        5   \n",
            "397                     4  ...                    5                        5   \n",
            "398                     5  ...                    6                        7   \n",
            "399                     6  ...                    4                        5   \n",
            "\n",
            "      Buy American   Adventurous   Midlife Crisis   Early Adopter   Active  \\\n",
            "0                8             4                3               3        3   \n",
            "1                6             5                5               6        4   \n",
            "2                4             6                5               5        5   \n",
            "3                8             4                4               5        5   \n",
            "4                5             5                4               4        7   \n",
            "..             ...           ...              ...             ...      ...   \n",
            "395              4             6                6               9        5   \n",
            "396              6             6                6               8        8   \n",
            "397              5             1                1               2        4   \n",
            "398              6             5                6               7        4   \n",
            "399              6             2                4               5        5   \n",
            "\n",
            "      Skeptics Wrong   Determined   Optimistic  \n",
            "0                  2            1            4  \n",
            "1                  4            4            4  \n",
            "2                  6            6            7  \n",
            "3                  3            3            3  \n",
            "4                  3            3            4  \n",
            "..               ...          ...          ...  \n",
            "395                5            5            4  \n",
            "396                2            2            2  \n",
            "397                6            7            6  \n",
            "398                7            7            6  \n",
            "399                9            9            9  \n",
            "\n",
            "[400 rows x 31 columns]>\n"
          ]
        }
      ],
      "source": [
        "#1\n",
        "\n",
        "df_survey_data = pd.read_excel('https://foxweb.marist.edu/users/jf4n/DATA_FILES/SurveyData.xlsx', sheet_name='Data')\n",
        "print(df_survey_data.head)\n",
        "\n",
        "# Summary of statistics\n",
        "print(df_survey_data.describe)\n"
      ]
    },
    {
      "cell_type": "code",
      "source": [
        "# displaying basic stats\n",
        "basic_statistics = df_survey_data.describe()\n",
        "print(basic_statistics)\n"
      ],
      "metadata": {
        "colab": {
          "base_uri": "https://localhost:8080/"
        },
        "id": "d4mwFSEmEScC",
        "outputId": "aaac66e7-395f-4349-fa5b-5e421a4dc9d8"
      },
      "execution_count": null,
      "outputs": [
        {
          "output_type": "stream",
          "name": "stdout",
          "text": [
            "         Attitude    In Shape   Fashionable     Stylish   Individualistic  \\\n",
            "count  400.000000  400.000000    400.000000  400.000000        400.000000   \n",
            "mean     5.022500    4.305000      4.340000    4.602500          4.802500   \n",
            "std      2.587224    1.525711      1.505013    1.601845          1.306814   \n",
            "min      1.000000    1.000000      1.000000    1.000000          1.000000   \n",
            "25%      3.000000    3.000000      3.000000    3.000000          4.000000   \n",
            "50%      5.000000    4.000000      4.000000    5.000000          5.000000   \n",
            "75%      7.000000    5.000000      5.000000    6.000000          6.000000   \n",
            "max      9.000000    9.000000      9.000000    9.000000          9.000000   \n",
            "\n",
            "        Risk Taker   No Ozone Concern   Right To Pollute   Society Fine  \\\n",
            "count   400.000000         400.000000         400.000000     400.000000   \n",
            "mean      4.697500           5.055000           5.260000       4.955000   \n",
            "std       1.603878           1.618185           1.494317       1.472547   \n",
            "min       1.000000           1.000000           1.000000       1.000000   \n",
            "25%       4.000000           4.000000           4.000000       4.000000   \n",
            "50%       5.000000           5.000000           5.000000       5.000000   \n",
            "75%       6.000000           6.000000           6.000000       6.000000   \n",
            "max       9.000000           9.000000           9.000000       9.000000   \n",
            "\n",
            "        No Time For Charity  ...   American Cars Rule  \\\n",
            "count            400.000000  ...           400.000000   \n",
            "mean               5.005000  ...             4.960000   \n",
            "std                1.589431  ...             1.618626   \n",
            "min                1.000000  ...             1.000000   \n",
            "25%                4.000000  ...             4.000000   \n",
            "50%                5.000000  ...             5.000000   \n",
            "75%                6.000000  ...             6.000000   \n",
            "max                9.000000  ...             9.000000   \n",
            "\n",
            "        Restrict Japan Imports   Buy American   Adventurous   Midlife Crisis  \\\n",
            "count               400.000000     400.000000    400.000000       400.000000   \n",
            "mean                  4.835000       5.285000      4.140000         4.397500   \n",
            "std                   1.701474       1.392344      1.486919         1.539617   \n",
            "min                   1.000000       1.000000      1.000000         1.000000   \n",
            "25%                   4.000000       4.000000      3.000000         3.000000   \n",
            "50%                   5.000000       5.000000      4.000000         4.000000   \n",
            "75%                   6.000000       6.000000      5.000000         5.000000   \n",
            "max                   9.000000       9.000000      9.000000         9.000000   \n",
            "\n",
            "        Early Adopter     Active   Skeptics Wrong   Determined   Optimistic  \n",
            "count      400.000000  400.00000       400.000000   400.000000   400.000000  \n",
            "mean         4.735000    5.39750         4.295000     4.442500     4.625000  \n",
            "std          1.410585    1.60028         1.563357     1.618097     1.473024  \n",
            "min          1.000000    1.00000         1.000000     1.000000     1.000000  \n",
            "25%          4.000000    4.00000         3.000000     3.000000     4.000000  \n",
            "50%          5.000000    5.00000         4.000000     4.000000     5.000000  \n",
            "75%          6.000000    6.00000         5.000000     6.000000     6.000000  \n",
            "max          9.000000    9.00000         9.000000     9.000000     9.000000  \n",
            "\n",
            "[8 rows x 31 columns]\n"
          ]
        }
      ]
    },
    {
      "cell_type": "code",
      "source": [
        "# dropping attitude column\n",
        "df_survey_data_no_attitude = df_survey_data.drop(columns=['Attitude'])\n",
        "\n",
        "# Stacking the modified DataFrame\n",
        "stacked_df = df_survey_data_no_attitude.stack()\n",
        "\n",
        "print(stacked_df)\n",
        "\n"
      ],
      "metadata": {
        "colab": {
          "base_uri": "https://localhost:8080/"
        },
        "id": "n6fVurs7HN3z",
        "outputId": "d95b35e0-3314-45bd-a304-815d489124d8"
      },
      "execution_count": null,
      "outputs": [
        {
          "output_type": "stream",
          "name": "stdout",
          "text": [
            "0     In Shape           5\n",
            "      Fashionable        5\n",
            "      Stylish            4\n",
            "      Individualistic    6\n",
            "      Risk Taker         5\n",
            "                        ..\n",
            "399   Early Adopter      5\n",
            "      Active             5\n",
            "      Skeptics Wrong     9\n",
            "      Determined         9\n",
            "      Optimistic         9\n",
            "Length: 12000, dtype: int64\n"
          ]
        }
      ]
    },
    {
      "cell_type": "code",
      "source": [
        "#histogram of likert scale responses\n",
        "stacked_data = df_survey_data.stack()\n",
        "plt.figure(figsize=(8, 6))\n",
        "sns.histplot(stacked_data, bins=30,kde=True)\n",
        "plt.title('Histogram for Stacked Likert Scale Responses')\n",
        "plt.xlabel('Response')\n",
        "plt.ylabel('Frequency')\n",
        "plt.xticks(range(1, 11))\n",
        "plt.show()\n"
      ],
      "metadata": {
        "colab": {
          "base_uri": "https://localhost:8080/",
          "height": 564
        },
        "id": "usEEnxgRHtgn",
        "outputId": "f122d2c1-6a31-4cd8-fef5-1c6cc1475252"
      },
      "execution_count": null,
      "outputs": [
        {
          "output_type": "display_data",
          "data": {
            "text/plain": [
              "<Figure size 800x600 with 1 Axes>"
            ],
            "image/png": "[encoded data removed]"
          },
          "metadata": {}
        }
      ]
    },
    {
      "cell_type": "code",
      "source": [
        "#2 checking missing values\n",
        "missing_values = df_survey_data.isnull().sum()\n",
        "missing_values\n"
      ],
      "metadata": {
        "colab": {
          "base_uri": "https://localhost:8080/"
        },
        "id": "ZufaPLbZDkc5",
        "outputId": "3a1bf679-82ad-4a33-c386-d18153af79b4"
      },
      "execution_count": null,
      "outputs": [
        {
          "output_type": "execute_result",
          "data": {
            "text/plain": [
              "Attitude                   0\n",
              " In Shape                  0\n",
              " Fashionable               0\n",
              " Stylish                   0\n",
              " Individualistic           0\n",
              " Risk Taker                0\n",
              " No Ozone Concern          0\n",
              " Right To Pollute          0\n",
              " Society Fine              0\n",
              " No Time For Charity       0\n",
              " No Debt                   0\n",
              " Prefer Cash               0\n",
              " Spendthrift               0\n",
              " Prefer Credit             0\n",
              " No Coupons                0\n",
              " Low Interest Buyer        0\n",
              " Confident                 0\n",
              " Leader                    0\n",
              " Dependable                0\n",
              " Children Important        0\n",
              " Introverted               0\n",
              " American Cars Rule        0\n",
              " Restrict Japan Imports    0\n",
              " Buy American              0\n",
              " Adventurous               0\n",
              " Midlife Crisis            0\n",
              " Early Adopter             0\n",
              " Active                    0\n",
              " Skeptics Wrong            0\n",
              " Determined                0\n",
              " Optimistic                0\n",
              "dtype: int64"
            ]
          },
          "metadata": {},
          "execution_count": 9
        }
      ]
    },
    {
      "cell_type": "code",
      "source": [
        "#3 correlation of matrix\n",
        "correlation_with_attitude = df_survey_data.corr()['Attitude'].sort_values(ascending=False)\n",
        "\n",
        "print(correlation_with_attitude)\n"
      ],
      "metadata": {
        "colab": {
          "base_uri": "https://localhost:8080/"
        },
        "id": "wKBVRu0BNNRS",
        "outputId": "3ea0a971-23bb-4aef-bdc9-67998a3d27e8"
      },
      "execution_count": null,
      "outputs": [
        {
          "output_type": "stream",
          "name": "stdout",
          "text": [
            "Attitude                   1.000000\n",
            " Risk Taker                0.583276\n",
            " Adventurous               0.544474\n",
            " Midlife Crisis            0.514312\n",
            " Skeptics Wrong            0.381288\n",
            " Determined                0.377772\n",
            " Fashionable               0.335949\n",
            " In Shape                  0.329687\n",
            " Optimistic                0.313280\n",
            " Early Adopter             0.282516\n",
            " Stylish                   0.259785\n",
            " Individualistic           0.218511\n",
            " No Ozone Concern          0.209826\n",
            " Restrict Japan Imports    0.203529\n",
            " American Cars Rule        0.183948\n",
            " Right To Pollute          0.180645\n",
            " Buy American              0.165889\n",
            " Confident                 0.148759\n",
            " Leader                    0.115986\n",
            " Active                    0.091662\n",
            " No Time For Charity       0.081032\n",
            " Society Fine              0.079208\n",
            " Dependable                0.070787\n",
            " No Debt                   0.051914\n",
            " Prefer Credit             0.048659\n",
            " No Coupons                0.046781\n",
            " Spendthrift               0.040651\n",
            " Introverted               0.040204\n",
            " Low Interest Buyer        0.036763\n",
            " Prefer Cash               0.029031\n",
            " Children Important        0.024202\n",
            "Name: Attitude, dtype: float64\n"
          ]
        }
      ]
    },
    {
      "cell_type": "code",
      "source": [
        "#4 partioning the dataset\n",
        "\n",
        "\n",
        "# Likert scale questions (columns 1-30)\n",
        "likert_questions = list(range(1, 31))\n",
        "\n",
        "# target variable (question 31)\n",
        "X = df_survey_data.iloc[:, likert_questions]\n",
        "y = df_survey_data['Attitude']\n",
        "\n",
        "# Splitting the data into training and testing sets (70% train, 30% test)\n",
        "X_train, X_test, y_train, y_test = train_test_split(X, y, test_size=0.3, random_state=42)\n",
        "\n",
        "print(f\"X_train shape: {X_train.shape}\")\n",
        "print(f\"X_test shape: {X_test.shape}\")\n",
        "print(f\"y_train shape: {y_train.shape}\")\n",
        "print(f\"y_test shape: {y_test.shape}\")\n"
      ],
      "metadata": {
        "colab": {
          "base_uri": "https://localhost:8080/"
        },
        "id": "PMd9592J_fX8",
        "outputId": "f2bbf35e-7423-4759-a69f-0576daf4cf9d"
      },
      "execution_count": null,
      "outputs": [
        {
          "output_type": "stream",
          "name": "stdout",
          "text": [
            "X_train shape: (280, 30)\n",
            "X_test shape: (120, 30)\n",
            "y_train shape: (280,)\n",
            "y_test shape: (120,)\n"
          ]
        }
      ]
    },
    {
      "cell_type": "code",
      "source": [
        "#5 building linear regression mpodel\n",
        "\n",
        "# Defining the Linear Regression model\n",
        "lr = LinearRegression()\n",
        "\n",
        "# Apply RFE to select the top 10 features\n",
        "rfe = RFE(estimator=lr, n_features_to_select=10, step=1)\n",
        "rfe.fit(X_train, y_train)\n",
        "\n",
        "selected_features = X_train.columns[rfe.support_]\n",
        "\n",
        "# Building model on selected features\n",
        "lr.fit(X_train[selected_features], y_train)\n",
        "\n",
        "# Evaluating as before\n",
        "print('Training R-squared:', lr.score(X_train[selected_features], y_train))\n",
        "y_pred = lr.predict(X_test[selected_features])\n",
        "rmse = mean_squared_error(y_test, y_pred, squared=False)\n",
        "print('Testing RMSE:', rmse)\n",
        "\n",
        "print('Regression equation:')\n",
        "for feature, coef in zip(selected_features, lr.coef_):\n",
        "    print(f\"{feature}: {coef:.4f}\")\n"
      ],
      "metadata": {
        "colab": {
          "base_uri": "https://localhost:8080/"
        },
        "id": "wKtVsVh9a4fC",
        "outputId": "0923be3f-c9ea-4b32-d9d9-5edbb1c1fda2"
      },
      "execution_count": null,
      "outputs": [
        {
          "output_type": "stream",
          "name": "stdout",
          "text": [
            "Training R-squared: 0.5629252972065588\n",
            "Testing RMSE: 1.6197392627879812\n",
            "Regression equation:\n",
            " In Shape: 0.0781\n",
            " Fashionable: 0.2338\n",
            " Risk Taker: 0.5856\n",
            " Right To Pollute: 0.1120\n",
            " Low Interest Buyer: 0.1279\n",
            " Confident: 0.0883\n",
            " Restrict Japan Imports: 0.1290\n",
            " Adventurous: 0.6507\n",
            " Active: -0.0672\n",
            " Determined: 0.2875\n"
          ]
        }
      ]
    },
    {
      "cell_type": "code",
      "source": [
        "#6  PCA\n",
        "\n",
        "# Number of chosen components\n",
        "n_components = 10\n",
        "\n",
        "pca = PCA(n_components=n_components)\n",
        "\n",
        "# Fitting PCA on training data\n",
        "pca.fit(X_train)\n",
        "\n",
        "# Transforming training and test data using PCA\n",
        "X_train_pca = pca.transform(X_train)[:, :n_components]\n",
        "X_test_pca = pca.transform(X_test)[:, :n_components]\n",
        "\n",
        "# Printing the variance explained by the chosen components\n",
        "print(f\"PCA variance explained by {n_components} components: {sum(pca.explained_variance_ratio_)}\")\n"
      ],
      "metadata": {
        "colab": {
          "base_uri": "https://localhost:8080/"
        },
        "id": "Covx7Wqjcnk1",
        "outputId": "70ba21d9-58bf-4520-f92b-bee5ed483ff2"
      },
      "execution_count": null,
      "outputs": [
        {
          "output_type": "stream",
          "name": "stdout",
          "text": [
            "PCA variance explained by 10 components: 0.8263582031602004\n"
          ]
        }
      ]
    },
    {
      "cell_type": "code",
      "source": [
        "pca = PCA()\n",
        "pca.fit(X_train)\n",
        "\n",
        "#  PCA variance\n",
        "explained_variance = pca.explained_variance_ratio_\n",
        "explained_variance"
      ],
      "metadata": {
        "colab": {
          "base_uri": "https://localhost:8080/"
        },
        "id": "RfG2Ajl6fvL8",
        "outputId": "94724180-eeb3-42ac-846c-a9cf29252b33"
      },
      "execution_count": null,
      "outputs": [
        {
          "output_type": "execute_result",
          "data": {
            "text/plain": [
              "array([0.18269158, 0.1255053 , 0.09761939, 0.09458587, 0.07790888,\n",
              "       0.06871683, 0.05759988, 0.05304468, 0.03857262, 0.03302594,\n",
              "       0.02767961, 0.02570817, 0.02085285, 0.01397944, 0.01290483,\n",
              "       0.01171372, 0.01075792, 0.00941144, 0.00617155, 0.00581734,\n",
              "       0.00514796, 0.00429431, 0.00319591, 0.0027908 , 0.00264253,\n",
              "       0.00233406, 0.00217532, 0.00180882, 0.00134245])"
            ]
          },
          "metadata": {},
          "execution_count": 50
        }
      ]
    },
    {
      "cell_type": "code",
      "source": [
        "\n",
        "# Building linear regression model on PCA\n",
        "lm = LinearRegression()\n",
        "lm.fit(X_train_pca, y_train)\n",
        "\n",
        "# Evaluating on test data\n",
        "y_pred = lm.predict(X_test_pca)\n",
        "r2 = r2_score(y_test, y_pred)\n",
        "mse = mean_squared_error(y_test, y_pred)\n",
        "\n",
        "print(f\"PCA_MSE: {mse}\")\n",
        "print(f\"PCA_R-squared: {r2}\")\n"
      ],
      "metadata": {
        "colab": {
          "base_uri": "https://localhost:8080/"
        },
        "id": "O7Sff-MHf9cj",
        "outputId": "1bee0b5a-b59e-4e57-ff75-162fb8227f7a"
      },
      "execution_count": null,
      "outputs": [
        {
          "output_type": "stream",
          "name": "stdout",
          "text": [
            "PCA_MSE: 3.017954834302384\n",
            "PCA_R-squared: 0.5604208851153674\n"
          ]
        }
      ]
    },
    {
      "cell_type": "code",
      "source": [
        "#7 Random Forest\n",
        "\n",
        "rf = RandomForestRegressor(random_state=42)\n",
        "\n",
        "rf.fit(X_train, y_train)\n",
        "\n",
        "# Prediction on test data\n",
        "y_pred_rf = rf.predict(X_test)\n",
        "mse_rf = mean_squared_error(y_test, y_pred_rf)\n",
        "r2_rf = r2_score(y_test, y_pred_rf)\n",
        "\n",
        "print(f\"random_forest_mse: {mse_rf}\")\n",
        "print(f\"random_forest_r2_Score: {r2_rf}\")"
      ],
      "metadata": {
        "colab": {
          "base_uri": "https://localhost:8080/"
        },
        "id": "0mjr1-lUhD4v",
        "outputId": "712d1bb4-a455-41ff-f120-a82be5c39ba9"
      },
      "execution_count": null,
      "outputs": [
        {
          "output_type": "stream",
          "name": "stdout",
          "text": [
            "random_forest_mse: 2.8997366666666666\n",
            "random_forest_r2_Score: 0.5776399093704483\n"
          ]
        }
      ]
    },
    {
      "cell_type": "code",
      "source": [
        "#8\n",
        "# Defining the threshold for Attitude\n",
        "threshold = 7\n",
        "\n",
        "# Creating a new column 'Buyer' based on the threshold (attitude )rule\n",
        "df_survey_data['Buyer'] = df_survey_data['Attitude'] > threshold\n",
        "\n",
        "print(df_survey_data)\n"
      ],
      "metadata": {
        "colab": {
          "base_uri": "https://localhost:8080/"
        },
        "id": "l9S1u63dmq7M",
        "outputId": "30271b1a-1b54-4d02-9e63-a7d82565060c"
      },
      "execution_count": null,
      "outputs": [
        {
          "output_type": "stream",
          "name": "stdout",
          "text": [
            "     Attitude   In Shape   Fashionable   Stylish   Individualistic  \\\n",
            "0           6          5             5         4                 6   \n",
            "1           9          6             6         4                 4   \n",
            "2           8          9             8         7                 7   \n",
            "3           3          2             2         3                 3   \n",
            "4           5          5             5         4                 6   \n",
            "..        ...        ...           ...       ...               ...   \n",
            "395         5          4             5         5                 4   \n",
            "396         6          4             4         4                 3   \n",
            "397         1          3             4         2                 5   \n",
            "398         5          6             6         8                 5   \n",
            "399         8          6             6         6                 7   \n",
            "\n",
            "      Risk Taker   No Ozone Concern   Right To Pollute   Society Fine  \\\n",
            "0              5                  4                  5              6   \n",
            "1              4                  7                  7              7   \n",
            "2              7                  7                  7              5   \n",
            "3              4                  3                  4              6   \n",
            "4              5                  4                  5              6   \n",
            "..           ...                ...                ...            ...   \n",
            "395            5                  3                  3              4   \n",
            "396            6                  6                  6              6   \n",
            "397            4                  3                  3              4   \n",
            "398            6                  4                  5              4   \n",
            "399            6                  6                  7              6   \n",
            "\n",
            "      No Time For Charity  ...   Restrict Japan Imports   Buy American  \\\n",
            "0                       5  ...                        8              8   \n",
            "1                       7  ...                        4              6   \n",
            "2                       5  ...                        2              4   \n",
            "3                       6  ...                        7              8   \n",
            "4                       5  ...                        4              5   \n",
            "..                    ...  ...                      ...            ...   \n",
            "395                     4  ...                        2              4   \n",
            "396                     7  ...                        5              6   \n",
            "397                     4  ...                        5              5   \n",
            "398                     5  ...                        7              6   \n",
            "399                     6  ...                        5              6   \n",
            "\n",
            "      Adventurous   Midlife Crisis   Early Adopter   Active   Skeptics Wrong  \\\n",
            "0               4                3               3        3                2   \n",
            "1               5                5               6        4                4   \n",
            "2               6                5               5        5                6   \n",
            "3               4                4               5        5                3   \n",
            "4               5                4               4        7                3   \n",
            "..            ...              ...             ...      ...              ...   \n",
            "395             6                6               9        5                5   \n",
            "396             6                6               8        8                2   \n",
            "397             1                1               2        4                6   \n",
            "398             5                6               7        4                7   \n",
            "399             2                4               5        5                9   \n",
            "\n",
            "      Determined   Optimistic  Buyer  \n",
            "0              1            4  False  \n",
            "1              4            4   True  \n",
            "2              6            7   True  \n",
            "3              3            3  False  \n",
            "4              3            4  False  \n",
            "..           ...          ...    ...  \n",
            "395            5            4  False  \n",
            "396            2            2  False  \n",
            "397            7            6  False  \n",
            "398            7            6  False  \n",
            "399            9            9   True  \n",
            "\n",
            "[400 rows x 32 columns]\n"
          ]
        }
      ]
    },
    {
      "cell_type": "code",
      "source": [
        "#9\n",
        "\n",
        "# Checking the distribution of Buyers/non-Buyers\n",
        "buyer_distribution = df_survey_data['Buyer'].value_counts()\n",
        "\n",
        "print(buyer_distribution)\n",
        "\n",
        "# Plotting a pie chart\n",
        "plt.figure(figsize=(6, 6))\n",
        "plt.pie(buyer_distribution, labels=['Non-Buyers', 'Buyers'], autopct='%1.1f%%', startangle=140, colors=['#ff9999','#66b3ff'])\n",
        "plt.title('Distribution of Buyers and Non-Buyers')\n",
        "plt.show()\n",
        "\n",
        "# Splitting data into train/test\n",
        "train_df, test_df = train_test_split(df_survey_data, test_size=0.3, random_state=42)\n",
        "\n",
        "print(\"Training set size:\", len(train_df))\n",
        "print(\"Test set size:\", len(test_df))\n"
      ],
      "metadata": {
        "colab": {
          "base_uri": "https://localhost:8080/",
          "height": 608
        },
        "id": "yECCsVvVpQJg",
        "outputId": "e793cbf5-d0aa-4f27-a4e9-176835d2f265"
      },
      "execution_count": null,
      "outputs": [
        {
          "output_type": "stream",
          "name": "stdout",
          "text": [
            "False    308\n",
            "True      92\n",
            "Name: Buyer, dtype: int64\n"
          ]
        },
        {
          "output_type": "display_data",
          "data": {
            "text/plain": [
              "<Figure size 600x600 with 1 Axes>"
            ],
            "image/png": "[encoded data removed]"
          },
          "metadata": {}
        },
        {
          "output_type": "stream",
          "name": "stdout",
          "text": [
            "Training set size: 280\n",
            "Test set size: 120\n"
          ]
        }
      ]
    },
    {
      "cell_type": "code",
      "source": [
        "#10\n",
        "\n",
        "likert_questions = list(range(1, 31))\n",
        "\n",
        "# Selecting features and target variable (buyer)\n",
        "X = df_survey_data.iloc[:, likert_questions]\n",
        "y = df_survey_data['Buyer']\n",
        "\n",
        "X_train, X_test, y_train, y_test = train_test_split(X, y, test_size=0.3, random_state=42)\n",
        "\n",
        "# Creating Naive Bayes model\n",
        "nb = BernoulliNB()\n",
        "\n",
        "nb.fit(X_train, y_train)\n",
        "\n",
        "# Making predictions on test set\n",
        "y_pred = nb.predict(X_test)\n",
        "\n",
        "# Evaluating accuracy\n",
        "accuracy = accuracy_score(y_test, y_pred)\n",
        "print(\"Naive Bayes accuracy: \", accuracy)\n",
        "\n",
        "# Generating probabilities from the classifier\n",
        "y_probs = nb.predict_proba(X_test)[:, 1]\n",
        "\n",
        "# ROC Curve\n",
        "fpr, tpr, thresholds = roc_curve(y_test, y_probs)\n",
        "roc_auc = roc_auc_score(y_test, y_probs)\n",
        "print(\"ROC AUC: \", roc_auc)\n",
        "\n",
        "# F1 Score\n",
        "f1 = f1_score(y_test, y_pred)\n",
        "print(\"F1 Score: \", f1)\n",
        "\n",
        "# Precision and Recall\n",
        "if y_pred.sum() > 0:\n",
        "    precision = precision_score(y_test, y_pred)\n",
        "else:\n",
        "    precision = 0\n",
        "    print(\"No positive predictions Detected\")\n",
        "\n",
        "recall = recall_score(y_test, y_pred)\n",
        "print(\"Recall: \", recall)\n"
      ],
      "metadata": {
        "colab": {
          "base_uri": "https://localhost:8080/"
        },
        "id": "_UmR1XF6xQ1m",
        "outputId": "9b976c5a-9005-4edb-89f8-2cf190b280b5"
      },
      "execution_count": null,
      "outputs": [
        {
          "output_type": "stream",
          "name": "stdout",
          "text": [
            "Naive Bayes accuracy:  0.775\n",
            "ROC AUC:  0.5\n",
            "F1 Score:  0.0\n",
            "No positive predictions Detected\n",
            "Recall:  0.0\n"
          ]
        }
      ]
    },
    {
      "cell_type": "code",
      "source": [
        "#11\n",
        "\n",
        "\n",
        "# Training Random Forest model\n",
        "rf = RandomForestClassifier(n_estimators=500, random_state=42)\n",
        "rf.fit(X_train, y_train)\n",
        "\n",
        "# Making predictions\n",
        "y_pred_rf = rf.predict(X_test)\n",
        "\n",
        "# Evaluate accuracy\n",
        "from sklearn.metrics import accuracy_score\n",
        "print(\"Random Forest accuracy:\", accuracy_score(y_test, y_pred_rf))\n"
      ],
      "metadata": {
        "colab": {
          "base_uri": "https://localhost:8080/"
        },
        "id": "DIzQy6VwI3BP",
        "outputId": "cfcad149-408a-4397-bb9c-9ba57e06e6a2"
      },
      "execution_count": null,
      "outputs": [
        {
          "output_type": "stream",
          "name": "stdout",
          "text": [
            "Random Forest accuracy: 0.9\n"
          ]
        }
      ]
    },
    {
      "cell_type": "code",
      "source": [
        "#12\n",
        "\n",
        "# Naive Bayes evaluation\n",
        "print(\"Naive Bayes:\")\n",
        "cm_nb = confusion_matrix(y_test, y_pred)\n",
        "print(\"Confusion Matrix:\")\n",
        "print(cm_nb)\n",
        "\n",
        "prec_nb = precision_score(y_test, y_pred, average=None, zero_division=1)\n",
        "rec_nb = recall_score(y_test, y_pred, average=None)\n",
        "f1_nb = f1_score(y_test, y_pred, average=None)\n",
        "\n",
        "print(\"Precision:\", prec_nb)\n",
        "print(\"Recall:\", rec_nb)\n",
        "print(\"F1 Score:\", f1_nb)\n",
        "\n",
        "# Random Forest evaluation\n",
        "print(\"\\nRandom Forest:\")\n",
        "cm_rf = confusion_matrix(y_test, y_pred_rf)\n",
        "print(\"Confusion Matrix:\")\n",
        "print(cm_rf)\n",
        "\n",
        "prec_rf = precision_score(y_test, y_pred_rf, average=None, zero_division=1)\n",
        "rec_rf = recall_score(y_test, y_pred_rf, average=None)\n",
        "f1_rf = f1_score(y_test, y_pred_rf, average=None)\n",
        "\n",
        "print(\"Precision:\", prec_rf)\n",
        "print(\"Recall:\", rec_rf)\n",
        "print(\"F1 Score:\", f1_rf)\n"
      ],
      "metadata": {
        "colab": {
          "base_uri": "https://localhost:8080/"
        },
        "id": "M7zIL-KSKa7N",
        "outputId": "d34435cb-fa0e-4da3-bfe8-161feb003058"
      },
      "execution_count": null,
      "outputs": [
        {
          "output_type": "stream",
          "name": "stdout",
          "text": [
            "Naive Bayes:\n",
            "Confusion Matrix:\n",
            "[[93  0]\n",
            " [27  0]]\n",
            "Precision: [0.775 1.   ]\n",
            "Recall: [1. 0.]\n",
            "F1 Score: [0.87323944 0.        ]\n",
            "\n",
            "Random Forest:\n",
            "Confusion Matrix:\n",
            "[[91  2]\n",
            " [10 17]]\n",
            "Precision: [0.9009901  0.89473684]\n",
            "Recall: [0.97849462 0.62962963]\n",
            "F1 Score: [0.93814433 0.73913043]\n"
          ]
        }
      ]
    },
    {
      "cell_type": "code",
      "source": [
        "from sklearn.metrics import precision_recall_fscore_support, roc_curve, auc\n",
        "\n",
        "# Defining a function to calculate and printing performance metrics\n",
        "def print_metrics(label, cm):\n",
        "    precision, recall, f1, _ = precision_recall_fscore_support(y_test, y_pred_rf, average='binary')\n",
        "    print(f\"{label} Metrics:\")\n",
        "    print(f\"Precision: {precision:.2f}\")\n",
        "    print(f\"Recall: {recall:.2f}\")\n",
        "    print(f\"F1 Score: {f1:.2f}\")\n",
        "    print(f\"Confusion Matrix:\")\n",
        "    print(cm)\n",
        "\n",
        "# Confusion matrices\n",
        "rf_cm = confusion_matrix(y_test, y_pred_rf)\n",
        "nb_cm = confusion_matrix(y_test, y_pred)\n",
        "\n",
        "# Printing metrics\n",
        "print_metrics(\"Random Forest\", rf_cm)\n",
        "print_metrics(\"Naive Bayes\", nb_cm)\n",
        "\n",
        "# ROC Curve\n",
        "rf_fpr, rf_tpr, _ = roc_curve(y_test, y_pred_rf)\n",
        "nb_fpr, nb_tpr, _ = roc_curve(y_test, y_probs)\n",
        "\n",
        "# Calculating AUC\n",
        "rf_auc = auc(rf_fpr, rf_tpr)\n",
        "nb_auc = auc(nb_fpr, nb_tpr)\n",
        "\n",
        "# Plotting ROC curves\n",
        "plt.figure(figsize=(10, 6))\n",
        "plt.plot(rf_fpr, rf_tpr, color='darkorange', lw=2, label=f'Random Forest (AUC = {rf_auc:.2f})')\n",
        "plt.plot(nb_fpr, nb_tpr, color='blue', lw=2, label=f'Naive Bayes (AUC = {nb_auc:.2f})')\n",
        "plt.plot([0, 1], [0, 1], color='navy', lw=2, linestyle='--')\n",
        "plt.xlabel('False Positive Rate')\n",
        "plt.ylabel('True Positive Rate')\n",
        "plt.title('Receiver Operating Characteristic')\n",
        "plt.legend(loc=\"lower right\")\n",
        "plt.show()\n"
      ],
      "metadata": {
        "colab": {
          "base_uri": "https://localhost:8080/",
          "height": 807
        },
        "id": "SexNH8QqLLgi",
        "outputId": "69934390-5648-44f4-ff30-004587b572d4"
      },
      "execution_count": null,
      "outputs": [
        {
          "output_type": "stream",
          "name": "stdout",
          "text": [
            "Random Forest Metrics:\n",
            "Precision: 0.89\n",
            "Recall: 0.63\n",
            "F1 Score: 0.74\n",
            "Confusion Matrix:\n",
            "[[91  2]\n",
            " [10 17]]\n",
            "Naive Bayes Metrics:\n",
            "Precision: 0.89\n",
            "Recall: 0.63\n",
            "F1 Score: 0.74\n",
            "Confusion Matrix:\n",
            "[[93  0]\n",
            " [27  0]]\n"
          ]
        },
        {
          "output_type": "display_data",
          "data": {
            "text/plain": [
              "<Figure size 1000x600 with 1 Axes>"
            ],
            "image/png": "[encoded data removed]"
          },
          "metadata": {}
        }
      ]
    }
  ]
}